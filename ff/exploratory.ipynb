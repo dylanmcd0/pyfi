{
 "cells": [
  {
   "cell_type": "code",
   "execution_count": 40,
   "metadata": {},
   "outputs": [],
   "source": [
    "import pandas as pd\n",
    "import numpy as np\n",
    "import yfinance as yf\n",
    "from sklearn.linear_model import LinearRegression\n",
    "from datetime import datetime"
   ]
  },
  {
   "cell_type": "code",
   "execution_count": 41,
   "metadata": {},
   "outputs": [
    {
     "name": "stderr",
     "output_type": "stream",
     "text": [
      "[*********************100%***********************]  5 of 5 completed\n"
     ]
    }
   ],
   "source": [
    "tickers = ['AAPL', 'MSFT', 'GOOGL', 'NFLX', 'AMZN'] # Just picked a generic TMT basket\n",
    "\n",
    "start_date = '2020-01-01'\n",
    "end_date = '2023-01-01'\n",
    "price_data = yf.download(tickers, start_date, end_date)['Adj Close']\n",
    "\n",
    "# Gives the daily returns in the selected basket\n",
    "returns_data = price_data.pct_change().dropna()"
   ]
  },
  {
   "cell_type": "code",
   "execution_count": 42,
   "metadata": {},
   "outputs": [
    {
     "name": "stdout",
     "output_type": "stream",
     "text": [
      "Common dates: 0\n"
     ]
    }
   ],
   "source": [
    "ff_factors = pd.read_csv('F-F_Research_Data_Factors_daily.CSV', parse_dates=True, index_col=0)\n",
    "ff_factors.index = pd.to_datetime(ff_factors.index, format='%Y%m%d')\n",
    "\n",
    "\n",
    "\n",
    "common_dates = ff_factors.index.intersection(returns_data.index)\n",
    "print(f\"Common dates: {len(common_dates)}\")"
   ]
  },
  {
   "cell_type": "code",
   "execution_count": 44,
   "metadata": {},
   "outputs": [
    {
     "name": "stdout",
     "output_type": "stream",
     "text": [
      "Common dates: 755\n"
     ]
    }
   ],
   "source": [
    "returns_data.index = returns_data.index.tz_localize(None)\n",
    "\n",
    "common_dates = ff_factors.index.intersection(returns_data.index)\n",
    "print(f\"Common dates: {len(common_dates)}\")"
   ]
  },
  {
   "cell_type": "code",
   "execution_count": 50,
   "metadata": {},
   "outputs": [],
   "source": [
    "ff_factors = ff_factors.loc[common_dates]\n",
    "\n",
    "factor_data = returns_data.join(ff_factors[['Mkt-RF', 'SMB', 'HML']], how='inner')\n",
    "factor_data['RF'] = ff_factors['RF']  # Adding risk-free rate"
   ]
  },
  {
   "cell_type": "code",
   "execution_count": 51,
   "metadata": {},
   "outputs": [
    {
     "data": {
      "text/html": [
       "<div>\n",
       "<style scoped>\n",
       "    .dataframe tbody tr th:only-of-type {\n",
       "        vertical-align: middle;\n",
       "    }\n",
       "\n",
       "    .dataframe tbody tr th {\n",
       "        vertical-align: top;\n",
       "    }\n",
       "\n",
       "    .dataframe thead th {\n",
       "        text-align: right;\n",
       "    }\n",
       "</style>\n",
       "<table border=\"1\" class=\"dataframe\">\n",
       "  <thead>\n",
       "    <tr style=\"text-align: right;\">\n",
       "      <th></th>\n",
       "      <th>AAPL</th>\n",
       "      <th>AMZN</th>\n",
       "      <th>GOOGL</th>\n",
       "      <th>MSFT</th>\n",
       "      <th>NFLX</th>\n",
       "      <th>Mkt-RF</th>\n",
       "      <th>SMB</th>\n",
       "      <th>HML</th>\n",
       "      <th>RF</th>\n",
       "    </tr>\n",
       "    <tr>\n",
       "      <th>Date</th>\n",
       "      <th></th>\n",
       "      <th></th>\n",
       "      <th></th>\n",
       "      <th></th>\n",
       "      <th></th>\n",
       "      <th></th>\n",
       "      <th></th>\n",
       "      <th></th>\n",
       "      <th></th>\n",
       "    </tr>\n",
       "  </thead>\n",
       "  <tbody>\n",
       "    <tr>\n",
       "      <th>2020-01-03</th>\n",
       "      <td>-0.009722</td>\n",
       "      <td>-0.012139</td>\n",
       "      <td>-0.005231</td>\n",
       "      <td>-0.012451</td>\n",
       "      <td>-0.011855</td>\n",
       "      <td>-0.67</td>\n",
       "      <td>0.38</td>\n",
       "      <td>0.00</td>\n",
       "      <td>0.006</td>\n",
       "    </tr>\n",
       "    <tr>\n",
       "      <th>2020-01-06</th>\n",
       "      <td>0.007968</td>\n",
       "      <td>0.014886</td>\n",
       "      <td>0.026654</td>\n",
       "      <td>0.002585</td>\n",
       "      <td>0.030469</td>\n",
       "      <td>0.36</td>\n",
       "      <td>-0.07</td>\n",
       "      <td>-0.55</td>\n",
       "      <td>0.006</td>\n",
       "    </tr>\n",
       "    <tr>\n",
       "      <th>2020-01-07</th>\n",
       "      <td>-0.004703</td>\n",
       "      <td>0.002092</td>\n",
       "      <td>-0.001931</td>\n",
       "      <td>-0.009118</td>\n",
       "      <td>-0.015127</td>\n",
       "      <td>-0.19</td>\n",
       "      <td>-0.01</td>\n",
       "      <td>-0.25</td>\n",
       "      <td>0.006</td>\n",
       "    </tr>\n",
       "    <tr>\n",
       "      <th>2020-01-08</th>\n",
       "      <td>0.016086</td>\n",
       "      <td>-0.007809</td>\n",
       "      <td>0.007118</td>\n",
       "      <td>0.015928</td>\n",
       "      <td>0.025729</td>\n",
       "      <td>0.47</td>\n",
       "      <td>-0.05</td>\n",
       "      <td>-0.66</td>\n",
       "      <td>0.006</td>\n",
       "    </tr>\n",
       "    <tr>\n",
       "      <th>2020-01-09</th>\n",
       "      <td>0.021241</td>\n",
       "      <td>0.004799</td>\n",
       "      <td>0.010498</td>\n",
       "      <td>0.012493</td>\n",
       "      <td>-0.010611</td>\n",
       "      <td>0.65</td>\n",
       "      <td>-0.64</td>\n",
       "      <td>-0.48</td>\n",
       "      <td>0.006</td>\n",
       "    </tr>\n",
       "    <tr>\n",
       "      <th>...</th>\n",
       "      <td>...</td>\n",
       "      <td>...</td>\n",
       "      <td>...</td>\n",
       "      <td>...</td>\n",
       "      <td>...</td>\n",
       "      <td>...</td>\n",
       "      <td>...</td>\n",
       "      <td>...</td>\n",
       "      <td>...</td>\n",
       "    </tr>\n",
       "    <tr>\n",
       "      <th>2022-12-23</th>\n",
       "      <td>-0.002798</td>\n",
       "      <td>0.017425</td>\n",
       "      <td>0.016750</td>\n",
       "      <td>0.002267</td>\n",
       "      <td>-0.009370</td>\n",
       "      <td>0.51</td>\n",
       "      <td>-0.61</td>\n",
       "      <td>1.16</td>\n",
       "      <td>0.016</td>\n",
       "    </tr>\n",
       "    <tr>\n",
       "      <th>2022-12-27</th>\n",
       "      <td>-0.013878</td>\n",
       "      <td>-0.025924</td>\n",
       "      <td>-0.020621</td>\n",
       "      <td>-0.007414</td>\n",
       "      <td>-0.036581</td>\n",
       "      <td>-0.51</td>\n",
       "      <td>-0.74</td>\n",
       "      <td>1.43</td>\n",
       "      <td>0.016</td>\n",
       "    </tr>\n",
       "    <tr>\n",
       "      <th>2022-12-28</th>\n",
       "      <td>-0.030685</td>\n",
       "      <td>-0.014692</td>\n",
       "      <td>-0.015677</td>\n",
       "      <td>-0.010255</td>\n",
       "      <td>-0.025654</td>\n",
       "      <td>-1.24</td>\n",
       "      <td>-0.23</td>\n",
       "      <td>-0.29</td>\n",
       "      <td>0.016</td>\n",
       "    </tr>\n",
       "    <tr>\n",
       "      <th>2022-12-29</th>\n",
       "      <td>0.028324</td>\n",
       "      <td>0.028844</td>\n",
       "      <td>0.028249</td>\n",
       "      <td>0.027630</td>\n",
       "      <td>0.051430</td>\n",
       "      <td>1.87</td>\n",
       "      <td>1.27</td>\n",
       "      <td>-1.07</td>\n",
       "      <td>0.016</td>\n",
       "    </tr>\n",
       "    <tr>\n",
       "      <th>2022-12-30</th>\n",
       "      <td>0.002469</td>\n",
       "      <td>-0.002138</td>\n",
       "      <td>-0.002487</td>\n",
       "      <td>-0.004937</td>\n",
       "      <td>0.012916</td>\n",
       "      <td>-0.22</td>\n",
       "      <td>0.12</td>\n",
       "      <td>-0.03</td>\n",
       "      <td>0.016</td>\n",
       "    </tr>\n",
       "  </tbody>\n",
       "</table>\n",
       "<p>755 rows × 9 columns</p>\n",
       "</div>"
      ],
      "text/plain": [
       "                AAPL      AMZN     GOOGL      MSFT      NFLX  Mkt-RF   SMB  \\\n",
       "Date                                                                         \n",
       "2020-01-03 -0.009722 -0.012139 -0.005231 -0.012451 -0.011855   -0.67  0.38   \n",
       "2020-01-06  0.007968  0.014886  0.026654  0.002585  0.030469    0.36 -0.07   \n",
       "2020-01-07 -0.004703  0.002092 -0.001931 -0.009118 -0.015127   -0.19 -0.01   \n",
       "2020-01-08  0.016086 -0.007809  0.007118  0.015928  0.025729    0.47 -0.05   \n",
       "2020-01-09  0.021241  0.004799  0.010498  0.012493 -0.010611    0.65 -0.64   \n",
       "...              ...       ...       ...       ...       ...     ...   ...   \n",
       "2022-12-23 -0.002798  0.017425  0.016750  0.002267 -0.009370    0.51 -0.61   \n",
       "2022-12-27 -0.013878 -0.025924 -0.020621 -0.007414 -0.036581   -0.51 -0.74   \n",
       "2022-12-28 -0.030685 -0.014692 -0.015677 -0.010255 -0.025654   -1.24 -0.23   \n",
       "2022-12-29  0.028324  0.028844  0.028249  0.027630  0.051430    1.87  1.27   \n",
       "2022-12-30  0.002469 -0.002138 -0.002487 -0.004937  0.012916   -0.22  0.12   \n",
       "\n",
       "             HML     RF  \n",
       "Date                     \n",
       "2020-01-03  0.00  0.006  \n",
       "2020-01-06 -0.55  0.006  \n",
       "2020-01-07 -0.25  0.006  \n",
       "2020-01-08 -0.66  0.006  \n",
       "2020-01-09 -0.48  0.006  \n",
       "...          ...    ...  \n",
       "2022-12-23  1.16  0.016  \n",
       "2022-12-27  1.43  0.016  \n",
       "2022-12-28 -0.29  0.016  \n",
       "2022-12-29 -1.07  0.016  \n",
       "2022-12-30 -0.03  0.016  \n",
       "\n",
       "[755 rows x 9 columns]"
      ]
     },
     "execution_count": 51,
     "metadata": {},
     "output_type": "execute_result"
    }
   ],
   "source": [
    "factor_data"
   ]
  },
  {
   "cell_type": "code",
   "execution_count": 55,
   "metadata": {},
   "outputs": [
    {
     "name": "stdout",
     "output_type": "stream",
     "text": [
      "Factor Loadings:\n",
      "          Mkt-RF       SMB       HML\n",
      "AAPL   0.012059 -0.004037 -0.003752\n",
      "MSFT   0.011853   -0.0045  -0.00417\n",
      "GOOGL  0.011015 -0.002358 -0.003143\n",
      "NFLX   0.009864  0.000095 -0.008467\n",
      "AMZN    0.01014 -0.002165 -0.006994\n"
     ]
    }
   ],
   "source": [
    "factor_loadings = pd.DataFrame(index=tickers, columns=['Mkt-RF', 'SMB', 'HML'])\n",
    "\n",
    "# Run regression for each stock\n",
    "for ticker in tickers:\n",
    "    Y = factor_data[ticker] - factor_data['RF']  # Excess returns\n",
    "    X = factor_data[['Mkt-RF', 'SMB', 'HML']]\n",
    "    model = LinearRegression().fit(X, Y)\n",
    "    factor_loadings.loc[ticker] = model.coef_\n",
    "\n",
    "print(\"Factor Loadings:\\n\", factor_loadings)\n"
   ]
  },
  {
   "cell_type": "code",
   "execution_count": 59,
   "metadata": {},
   "outputs": [],
   "source": [
    "factor_loadings['HML'] = pd.to_numeric(factor_loadings['HML'], errors='coerce')\n",
    "factor_loadings['Mkt-RF'] = pd.to_numeric(factor_loadings['Mkt-RF'], errors='coerce')\n",
    "factor_loadings['SMB'] = pd.to_numeric(factor_loadings['SMB'], errors='coerce')"
   ]
  },
  {
   "cell_type": "code",
   "execution_count": 61,
   "metadata": {},
   "outputs": [
    {
     "name": "stdout",
     "output_type": "stream",
     "text": [
      "Long stocks: Index(['GOOGL', 'AAPL'], dtype='object')\n",
      "Short stocks: Index(['NFLX', 'AMZN'], dtype='object')\n"
     ]
    }
   ],
   "source": [
    "# Need to convert to numerics\n",
    "factor_loadings['HML'] = pd.to_numeric(factor_loadings['HML'], errors='coerce')\n",
    "factor_loadings['Mkt-RF'] = pd.to_numeric(factor_loadings['Mkt-RF'], errors='coerce')\n",
    "factor_loadings['SMB'] = pd.to_numeric(factor_loadings['SMB'], errors='coerce')\n",
    "\n",
    "# Sort stocks by 'HML' loading for long/short strategy\n",
    "long_stocks = factor_loadings.nlargest(2, 'HML').index\n",
    "short_stocks = factor_loadings.nsmallest(2, 'HML').index\n",
    "\n",
    "print(\"Long stocks:\", long_stocks)\n",
    "print(\"Short stocks:\", short_stocks)"
   ]
  },
  {
   "cell_type": "code",
   "execution_count": 62,
   "metadata": {},
   "outputs": [
    {
     "data": {
      "text/plain": [
       "<Axes: title={'center': 'Long/Short TMT Portfolio Cumulative Returns'}, xlabel='Date'>"
      ]
     },
     "execution_count": 62,
     "metadata": {},
     "output_type": "execute_result"
    },
    {
     "data": {
      "image/png": "[encoded data removed]",
      "text/plain": [
       "<Figure size 640x480 with 1 Axes>"
      ]
     },
     "metadata": {},
     "output_type": "display_data"
    }
   ],
   "source": [
    "# Calculate daily returns for long and short portfolios\n",
    "long_returns = factor_data[long_stocks].mean(axis=1)\n",
    "short_returns = factor_data[short_stocks].mean(axis=1)\n",
    "\n",
    "# Long/Short portfolio returns\n",
    "portfolio_returns = long_returns - short_returns\n",
    "\n",
    "# Calculate cumulative returns\n",
    "cumulative_returns = (1 + portfolio_returns).cumprod() - 1\n",
    "\n",
    "# Display the result\n",
    "cumulative_returns.plot(title=\"Long/Short TMT Portfolio Cumulative Returns\")\n"
   ]
  },
  {
   "cell_type": "code",
   "execution_count": 63,
   "metadata": {},
   "outputs": [
    {
     "name": "stdout",
     "output_type": "stream",
     "text": [
      "Sharpe Ratio: 0.44\n"
     ]
    }
   ],
   "source": [
    "sharpe_ratio = (portfolio_returns.mean() / portfolio_returns.std()) * np.sqrt(252)\n",
    "print(f\"Sharpe Ratio: {sharpe_ratio:.2f}\")\n"
   ]
  }
 ],
 "metadata": {
  "kernelspec": {
   "display_name": "finance-env",
   "language": "python",
   "name": "python3"
  },
  "language_info": {
   "codemirror_mode": {
    "name": "ipython",
    "version": 3
   },
   "file_extension": ".py",
   "mimetype": "text/x-python",
   "name": "python",
   "nbconvert_exporter": "python",
   "pygments_lexer": "ipython3",
   "version": "3.12.4"
  }
 },
 "nbformat": 4,
 "nbformat_minor": 2
}
